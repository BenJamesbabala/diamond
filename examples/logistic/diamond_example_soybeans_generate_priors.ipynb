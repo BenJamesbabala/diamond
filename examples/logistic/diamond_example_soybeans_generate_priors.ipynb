{
 "cells": [
  {
   "cell_type": "code",
   "execution_count": 111,
   "metadata": {
    "collapsed": false
   },
   "outputs": [
    {
     "name": "stderr",
     "output_type": "stream",
     "text": [
      "\n",
      "Attaching package: ‘dplyr’\n",
      "\n",
      "The following object is masked from ‘package:MASS’:\n",
      "\n",
      "    select\n",
      "\n",
      "The following object is masked from ‘package:nlme’:\n",
      "\n",
      "    collapse\n",
      "\n",
      "The following objects are masked from ‘package:stats’:\n",
      "\n",
      "    filter, lag\n",
      "\n",
      "The following objects are masked from ‘package:base’:\n",
      "\n",
      "    intersect, setdiff, setequal, union\n",
      "\n"
     ]
    }
   ],
   "source": [
    "library(lme4)\n",
    "library(mbest)\n",
    "library(arm)\n",
    "library(dplyr)"
   ]
  },
  {
   "cell_type": "code",
   "execution_count": 121,
   "metadata": {
    "collapsed": true
   },
   "outputs": [],
   "source": [
    "df = read.csv(\"soybean_small.csv\")"
   ]
  },
  {
   "cell_type": "code",
   "execution_count": 122,
   "metadata": {
    "collapsed": false
   },
   "outputs": [
    {
     "data": {
      "text/html": [
       "<table>\n",
       "<thead><tr><th></th><th scope=col>date</th><th scope=col>plant_stand</th><th scope=col>precip</th><th scope=col>temp</th><th scope=col>hail</th><th scope=col>crop_hist</th><th scope=col>area_damaged</th><th scope=col>severity</th><th scope=col>seed_tmt</th><th scope=col>germination</th><th scope=col>ellip.h</th><th scope=col>sclerotia</th><th scope=col>fruit_pods</th><th scope=col>fruit.spots</th><th scope=col>seed</th><th scope=col>mold_growth</th><th scope=col>seed_discolor</th><th scope=col>seed_size</th><th scope=col>shriveling</th><th scope=col>roots</th><th scope=col>NA.</th></tr></thead>\n",
       "<tbody>\n",
       "\t<tr><th scope=row>1</th><td>4</td><td>0</td><td>2</td><td>1</td><td>1</td><td>1</td><td>0</td><td>1</td><td>0</td><td>2</td><td>⋯</td><td>0</td><td>0</td><td>4</td><td>0</td><td>0</td><td>0</td><td>0</td><td>0</td><td>0</td><td>D1</td></tr>\n",
       "\t<tr><th scope=row>2</th><td>5</td><td>0</td><td>2</td><td>1</td><td>0</td><td>3</td><td>1</td><td>1</td><td>1</td><td>2</td><td>⋯</td><td>0</td><td>0</td><td>4</td><td>0</td><td>0</td><td>0</td><td>0</td><td>0</td><td>0</td><td>D1</td></tr>\n",
       "\t<tr><th scope=row>3</th><td>3</td><td>0</td><td>2</td><td>1</td><td>0</td><td>2</td><td>0</td><td>2</td><td>1</td><td>1</td><td>⋯</td><td>0</td><td>0</td><td>4</td><td>0</td><td>0</td><td>0</td><td>0</td><td>0</td><td>0</td><td>D1</td></tr>\n",
       "\t<tr><th scope=row>4</th><td>6</td><td>0</td><td>2</td><td>1</td><td>0</td><td>1</td><td>1</td><td>1</td><td>0</td><td>0</td><td>⋯</td><td>0</td><td>0</td><td>4</td><td>0</td><td>0</td><td>0</td><td>0</td><td>0</td><td>0</td><td>D1</td></tr>\n",
       "\t<tr><th scope=row>5</th><td>4</td><td>0</td><td>2</td><td>1</td><td>0</td><td>3</td><td>0</td><td>2</td><td>0</td><td>2</td><td>⋯</td><td>0</td><td>0</td><td>4</td><td>0</td><td>0</td><td>0</td><td>0</td><td>0</td><td>0</td><td>D1</td></tr>\n",
       "\t<tr><th scope=row>6</th><td>5</td><td>0</td><td>2</td><td>1</td><td>0</td><td>2</td><td>0</td><td>1</td><td>1</td><td>0</td><td>⋯</td><td>0</td><td>0</td><td>4</td><td>0</td><td>0</td><td>0</td><td>0</td><td>0</td><td>0</td><td>D1</td></tr>\n",
       "</tbody>\n",
       "</table>\n"
      ],
      "text/latex": [
       "\\begin{tabular}{r|llllllllllllllllllllllllllllllllllll}\n",
       "  & date & plant_stand & precip & temp & hail & crop_hist & area_damaged & severity & seed_tmt & germination & ellip.h & sclerotia & fruit_pods & fruit.spots & seed & mold_growth & seed_discolor & seed_size & shriveling & roots & NA.\\\\\n",
       "\\hline\n",
       "\t1 & 4 & 0 & 2 & 1 & 1 & 1 & 0 & 1 & 0 & 2 & ⋯ & 0 & 0 & 4 & 0 & 0 & 0 & 0 & 0 & 0 & D1\\\\\n",
       "\t2 & 5 & 0 & 2 & 1 & 0 & 3 & 1 & 1 & 1 & 2 & ⋯ & 0 & 0 & 4 & 0 & 0 & 0 & 0 & 0 & 0 & D1\\\\\n",
       "\t3 & 3 & 0 & 2 & 1 & 0 & 2 & 0 & 2 & 1 & 1 & ⋯ & 0 & 0 & 4 & 0 & 0 & 0 & 0 & 0 & 0 & D1\\\\\n",
       "\t4 & 6 & 0 & 2 & 1 & 0 & 1 & 1 & 1 & 0 & 0 & ⋯ & 0 & 0 & 4 & 0 & 0 & 0 & 0 & 0 & 0 & D1\\\\\n",
       "\t5 & 4 & 0 & 2 & 1 & 0 & 3 & 0 & 2 & 0 & 2 & ⋯ & 0 & 0 & 4 & 0 & 0 & 0 & 0 & 0 & 0 & D1\\\\\n",
       "\t6 & 5 & 0 & 2 & 1 & 0 & 2 & 0 & 1 & 1 & 0 & ⋯ & 0 & 0 & 4 & 0 & 0 & 0 & 0 & 0 & 0 & D1\\\\\n",
       "\\end{tabular}\n"
      ],
      "text/plain": [
       "  date plant_stand precip temp hail crop_hist area_damaged severity seed_tmt\n",
       "1    4           0      2    1    1         1            0        1        0\n",
       "2    5           0      2    1    0         3            1        1        1\n",
       "3    3           0      2    1    0         2            0        2        1\n",
       "4    6           0      2    1    0         1            1        1        0\n",
       "5    4           0      2    1    0         3            0        2        0\n",
       "6    5           0      2    1    0         2            0        1        1\n",
       "  germination plant_growth leaves leafspots_halo leafspots_marg leafspot_size\n",
       "1           2            1      1              0              2             2\n",
       "2           2            1      1              0              2             2\n",
       "3           1            1      1              0              2             2\n",
       "4           0            1      1              0              2             2\n",
       "5           2            1      1              0              2             2\n",
       "6           0            1      1              0              2             2\n",
       "  leaf_shread leaf_malf leaf_mild stem lodging stem_cankers canker_lesion\n",
       "1           0         0         0    1       0            3             1\n",
       "2           0         0         0    1       1            3             0\n",
       "3           0         0         0    1       0            3             0\n",
       "4           0         0         0    1       1            3             1\n",
       "5           0         0         0    1       0            3             1\n",
       "6           0         0         0    1       1            3             1\n",
       "  fruiting_bodies external.decay mycelium int_discolor sclerotia fruit_pods\n",
       "1               1              1        0            0         0          0\n",
       "2               1              1        0            0         0          0\n",
       "3               1              1        0            0         0          0\n",
       "4               1              1        0            0         0          0\n",
       "5               1              1        0            0         0          0\n",
       "6               1              1        0            0         0          0\n",
       "  fruit.spots seed mold_growth seed_discolor seed_size shriveling roots NA.\n",
       "1           4    0           0             0         0          0     0  D1\n",
       "2           4    0           0             0         0          0     0  D1\n",
       "3           4    0           0             0         0          0     0  D1\n",
       "4           4    0           0             0         0          0     0  D1\n",
       "5           4    0           0             0         0          0     0  D1\n",
       "6           4    0           0             0         0          0     0  D1"
      ]
     },
     "execution_count": 122,
     "metadata": {},
     "output_type": "execute_result"
    }
   ],
   "source": [
    "head(df)"
   ]
  },
  {
   "cell_type": "code",
   "execution_count": 123,
   "metadata": {
    "collapsed": false,
    "scrolled": true
   },
   "outputs": [
    {
     "name": "stdout",
     "output_type": "stream",
     "text": [
      "'data.frame':\t47 obs. of  36 variables:\n",
      " $ date           : int  4 5 3 6 4 5 3 3 6 6 ...\n",
      " $ plant_stand    : int  0 0 0 0 0 0 0 0 0 0 ...\n",
      " $ precip         : int  2 2 2 2 2 2 2 2 2 2 ...\n",
      " $ temp           : int  1 1 1 1 1 1 1 1 1 1 ...\n",
      " $ hail           : int  1 0 0 0 0 0 0 0 0 0 ...\n",
      " $ crop_hist      : int  1 3 2 1 3 2 2 1 3 1 ...\n",
      " $ area_damaged   : int  0 1 0 1 0 0 1 0 0 0 ...\n",
      " $ severity       : int  1 1 2 1 2 1 1 2 1 1 ...\n",
      " $ seed_tmt       : int  0 1 1 0 0 1 0 1 1 0 ...\n",
      " $ germination    : int  2 2 1 0 2 0 1 2 1 2 ...\n",
      " $ plant_growth   : int  1 1 1 1 1 1 1 1 1 1 ...\n",
      " $ leaves         : int  1 1 1 1 1 1 1 1 1 1 ...\n",
      " $ leafspots_halo : int  0 0 0 0 0 0 0 0 0 0 ...\n",
      " $ leafspots_marg : int  2 2 2 2 2 2 2 2 2 2 ...\n",
      " $ leafspot_size  : int  2 2 2 2 2 2 2 2 2 2 ...\n",
      " $ leaf_shread    : int  0 0 0 0 0 0 0 0 0 0 ...\n",
      " $ leaf_malf      : int  0 0 0 0 0 0 0 0 0 0 ...\n",
      " $ leaf_mild      : int  0 0 0 0 0 0 0 0 0 0 ...\n",
      " $ stem           : int  1 1 1 1 1 1 1 1 1 1 ...\n",
      " $ lodging        : int  0 1 0 1 0 1 1 0 0 0 ...\n",
      " $ stem_cankers   : int  3 3 3 3 3 3 3 3 3 3 ...\n",
      " $ canker_lesion  : int  1 0 0 1 1 1 0 0 1 1 ...\n",
      " $ fruiting_bodies: int  1 1 1 1 1 1 1 1 1 1 ...\n",
      " $ external.decay : int  1 1 1 1 1 1 1 1 1 1 ...\n",
      " $ mycelium       : int  0 0 0 0 0 0 0 0 0 0 ...\n",
      " $ int_discolor   : int  0 0 0 0 0 0 0 0 0 0 ...\n",
      " $ sclerotia      : int  0 0 0 0 0 0 0 0 0 0 ...\n",
      " $ fruit_pods     : int  0 0 0 0 0 0 0 0 0 0 ...\n",
      " $ fruit.spots    : int  4 4 4 4 4 4 4 4 4 4 ...\n",
      " $ seed           : int  0 0 0 0 0 0 0 0 0 0 ...\n",
      " $ mold_growth    : int  0 0 0 0 0 0 0 0 0 0 ...\n",
      " $ seed_discolor  : int  0 0 0 0 0 0 0 0 0 0 ...\n",
      " $ seed_size      : int  0 0 0 0 0 0 0 0 0 0 ...\n",
      " $ shriveling     : int  0 0 0 0 0 0 0 0 0 0 ...\n",
      " $ roots          : int  0 0 0 0 0 0 0 0 0 0 ...\n",
      " $ NA.            : Factor w/ 4 levels \"D1\",\"D2\",\"D3\",..: 1 1 1 1 1 1 1 1 1 1 ...\n"
     ]
    }
   ],
   "source": [
    "str(df)"
   ]
  },
  {
   "cell_type": "code",
   "execution_count": 125,
   "metadata": {
    "collapsed": false
   },
   "outputs": [
    {
     "name": "stderr",
     "output_type": "stream",
     "text": [
      "Warning message:\n",
      "In moment.est(coef, nfixed = rank.fixed, subspace, precision, dispersion, : moment-based covariance matrix estimate is not positive semi-definite; using projection"
     ]
    }
   ],
   "source": [
    "model <- mhglm(fruiting_bodies ~ 1 + precip + (1 + precip | leaves),\n",
    "                 data = df,\n",
    "                 family = binomial)"
   ]
  },
  {
   "cell_type": "code",
   "execution_count": 126,
   "metadata": {
    "collapsed": false
   },
   "outputs": [
    {
     "data": {
      "text/plain": [
       "\n",
       "Call:\n",
       "mhglm(formula = fruiting_bodies ~ 1 + precip + (1 + precip | \n",
       "    leaves), family = binomial, data = df)\n",
       "\n",
       "Random effects:\n",
       " Groups Name        Variance Std.Dev Corr\n",
       " leaves (Intercept) 0.012599 0.11225     \n",
       "        precip      0.049492 0.22247 -1  \n",
       "\n",
       "Fixed effects:\n",
       "            Estimate Std. Error z value Pr(>|z|)  \n",
       "(Intercept)   -3.885      1.911  -2.033   0.0420 *\n",
       "precip         1.651      1.003   1.647   0.0996 .\n",
       "---\n",
       "Signif. codes:  0 ‘***’ 0.001 ‘**’ 0.01 ‘*’ 0.05 ‘.’ 0.1 ‘ ’ 1\n"
      ]
     },
     "execution_count": 126,
     "metadata": {},
     "output_type": "execute_result"
    }
   ],
   "source": [
    "summary(model)"
   ]
  },
  {
   "cell_type": "code",
   "execution_count": 127,
   "metadata": {
    "collapsed": false
   },
   "outputs": [
    {
     "data": {
      "text/html": [
       "<table>\n",
       "<thead><tr><th></th><th scope=col>(Intercept)</th><th scope=col>precip</th></tr></thead>\n",
       "<tbody>\n",
       "\t<tr><th scope=row>0</th><td>0.03589742</td><td>-0.07114734</td></tr>\n",
       "\t<tr><th scope=row>1</th><td>-0.03146296</td><td>0.06235841</td></tr>\n",
       "</tbody>\n",
       "</table>\n"
      ],
      "text/latex": [
       "\\begin{tabular}{r|ll}\n",
       "  & (Intercept) & precip\\\\\n",
       "\\hline\n",
       "\t0 & 0.03589742 & -0.07114734\\\\\n",
       "\t1 & -0.03146296 & 0.06235841\\\\\n",
       "\\end{tabular}\n"
      ],
      "text/plain": [
       "  (Intercept)      precip\n",
       "0  0.03589742 -0.07114734\n",
       "1 -0.03146296  0.06235841"
      ]
     },
     "execution_count": 127,
     "metadata": {},
     "output_type": "execute_result"
    }
   ],
   "source": [
    "ranef(model)$leaves"
   ]
  },
  {
   "cell_type": "code",
   "execution_count": 105,
   "metadata": {
    "collapsed": true
   },
   "outputs": [],
   "source": [
    "get_priors <- function(model, group, lme4=TRUE) {\n",
    "  priors <- VarCorr(model)\n",
    "  if (lme4) {\n",
    "    priors <- as.data.frame(priors)\n",
    "    priors <- mutate(priors, var1 = ifelse(var1 == \"(Intercept)\", \"intercept\", var1))\n",
    "    names(priors) <- tolower(names(priors))    \n",
    "  } else {\n",
    "    # for now, only take the diagonal\n",
    "    priors <- data.frame(\n",
    "        grp   = rep(group, ncol(priors[[group]])),\n",
    "        var1  = tolower(colnames(priors[[group]])),\n",
    "        var2  = rep(NA, ncol(priors[[group]])),\n",
    "        vcov  = diag(priors[[group]]),\n",
    "        sdcor = sqrt(diag(priors[[group]])),\n",
    "        # this needs to be here due to bad R quirks\n",
    "        stringsAsFactors = FALSE\n",
    "    )\n",
    "    priors$var1[priors$var1 == '(intercept)'] <- 'intercept'\n",
    "    rownames(priors) <- NULL\n",
    "  }\n",
    "  return(priors)\n",
    "}"
   ]
  },
  {
   "cell_type": "code",
   "execution_count": 106,
   "metadata": {
    "collapsed": false
   },
   "outputs": [],
   "source": [
    "priors = get_priors(model, group=\"leaves\", lme4=FALSE)"
   ]
  },
  {
   "cell_type": "code",
   "execution_count": 119,
   "metadata": {
    "collapsed": false
   },
   "outputs": [
    {
     "data": {
      "text/html": [
       "<table>\n",
       "<thead><tr><th></th><th scope=col>grp</th><th scope=col>var1</th><th scope=col>var2</th><th scope=col>vcov</th><th scope=col>sdcor</th></tr></thead>\n",
       "<tbody>\n",
       "\t<tr><th scope=row>1</th><td>leaves</td><td>intercept</td><td>NA</td><td>0.01259922</td><td>0.1122462</td></tr>\n",
       "\t<tr><th scope=row>2</th><td>leaves</td><td>precip</td><td>NA</td><td>0.04949194</td><td>0.2224678</td></tr>\n",
       "</tbody>\n",
       "</table>\n"
      ],
      "text/latex": [
       "\\begin{tabular}{r|lllll}\n",
       "  & grp & var1 & var2 & vcov & sdcor\\\\\n",
       "\\hline\n",
       "\t1 & leaves & intercept & NA & 0.01259922 & 0.1122462\\\\\n",
       "\t2 & leaves & precip & NA & 0.04949194 & 0.2224678\\\\\n",
       "\\end{tabular}\n"
      ],
      "text/plain": [
       "     grp      var1 var2       vcov     sdcor\n",
       "1 leaves intercept   NA 0.01259922 0.1122462\n",
       "2 leaves    precip   NA 0.04949194 0.2224678"
      ]
     },
     "execution_count": 119,
     "metadata": {},
     "output_type": "execute_result"
    }
   ],
   "source": [
    "priors"
   ]
  },
  {
   "cell_type": "code",
   "execution_count": 120,
   "metadata": {
    "collapsed": false
   },
   "outputs": [],
   "source": [
    "write.csv(priors, \"./soybean_small_priors.csv\", row.names=FALSE)"
   ]
  },
  {
   "cell_type": "code",
   "execution_count": null,
   "metadata": {
    "collapsed": true
   },
   "outputs": [],
   "source": []
  }
 ],
 "metadata": {
  "kernelspec": {
   "display_name": "R",
   "language": "R",
   "name": "ir"
  },
  "language_info": {
   "codemirror_mode": "r",
   "file_extension": ".r",
   "mimetype": "text/x-r-source",
   "name": "R",
   "pygments_lexer": "r",
   "version": "3.2.2"
  }
 },
 "nbformat": 4,
 "nbformat_minor": 0
}
